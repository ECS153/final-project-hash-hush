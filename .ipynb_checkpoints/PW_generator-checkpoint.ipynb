{
 "cells": [
  {
   "cell_type": "code",
   "execution_count": 3,
   "metadata": {},
   "outputs": [],
   "source": [
    "import numpy as np\n",
    "import itertools \n",
    "import operator\n",
    "from datetime import datetime\n",
    "import sys\n",
    "\n",
    "# password possible char\n",
    "# a-z    A-Z     1234567890      @%+\\/'!#$^?:,.(){}[]~-_*   26+26+10+24"
   ]
  },
  {
   "cell_type": "code",
   "execution_count": 27,
   "metadata": {},
   "outputs": [],
   "source": [
    "# credit from https://songhuiming.github.io/pages/2017/08/20/build-recurrent-neural-network-from-scratch/\n",
    "# TODO: question: what is hidden dimension/ hidden layer size?\n",
    "\n",
    "class RNNNumpy():\n",
    "    def __init__(self, word_dim, hidden_dim = 100, bptt_truncate = 4):\n",
    "        # assign instance variable\n",
    "        self.word_dim = word_dim   # number of possible characters, in this case 86\n",
    "        self.hidden_dim = hidden_dim # number of hidden units \n",
    "        self.bptt_truncate = bptt_truncate\n",
    "        \n",
    "        # random initiate the parameters\n",
    "        self.U = np.random.uniform(-np.sqrt(1./word_dim), np.sqrt(1./word_dim), (hidden_dim, word_dim))\n",
    "        self.V = np.random.uniform(-np.sqrt(1./hidden_dim), np.sqrt(1./hidden_dim), (word_dim, hidden_dim))\n",
    "        self.W = np.random.uniform(-np.sqrt(1./hidden_dim), np.sqrt(1./hidden_dim), (hidden_dim, hidden_dim))\n",
    "        \n",
    "\n",
    "    def softmax(x):\n",
    "        xt = np.exp(x - np.max(x))\n",
    "        return xt / np.sum(xt)\n",
    "\n",
    "    # this takes one word, and caculates the o and s for this word \n",
    "    def forward_progagation(self, x):\n",
    "        # total time steps / length of the password\n",
    "        T = len(x)\n",
    "        \n",
    "        #intialize s, with the initial state s set to zero, we thus have T+1 rows, each with size of hidden_dim\n",
    "        s = np.zeros((T+1, self.hidden_dim))\n",
    "        #intialize o, \n",
    "        o = np.zeros((T, self.word_dim))\n",
    "        \n",
    "        for t in np.arange(T):\n",
    "            # since x is a one-hot encoder, index U with x[t] is the same thing as mutiply U with tons of 0s\n",
    "            s[t] = np.tanh(self.U[:, x[t]] + self.W.dot(s[t-1]))\n",
    "            o[t] = softmax(self.V.dot(s[t])) \n",
    "        return [o, s]\n",
    "    \n",
    "    \n",
    "    def predict(self, x):\n",
    "        o, s = self.forward_progagation(x)\n",
    "        return np.argmax(o, axis = 1)\n",
    "    \n",
    "    \n",
    "    def cacluate "
   ]
  },
  {
   "cell_type": "code",
   "execution_count": 19,
   "metadata": {},
   "outputs": [
    {
     "name": "stdout",
     "output_type": "stream",
     "text": [
      "[65, 65, 66, 1, 32, 0, 17, 18, 66, 66, 67, 67]\n"
     ]
    }
   ],
   "source": [
    "# set range for char 32 - 126,  95 chars in total, remove pw outside the range\n",
    "s = \"aab!@ 12bbcc\"\n",
    "l = []\n",
    "for i in s:\n",
    "    l.append(ord(i)-32)\n",
    "print(l)"
   ]
  },
  {
   "cell_type": "code",
   "execution_count": 26,
   "metadata": {},
   "outputs": [
    {
     "name": "stdout",
     "output_type": "stream",
     "text": [
      "(12, 95)\n",
      "[[0.01058602 0.01021157 0.00979764 ... 0.01102728 0.01068796 0.0105887 ]\n",
      " [0.01055197 0.0103958  0.01033727 ... 0.01101663 0.01086781 0.0107979 ]\n",
      " [0.01043331 0.01092865 0.01031593 ... 0.01005372 0.01100638 0.01095897]\n",
      " ...\n",
      " [0.0111414  0.01064177 0.00979554 ... 0.01008737 0.01092188 0.01055336]\n",
      " [0.01126073 0.01127228 0.01038074 ... 0.01031521 0.00993921 0.01054624]\n",
      " [0.01060957 0.01143702 0.01045522 ... 0.01042938 0.01024333 0.01066457]]\n"
     ]
    }
   ],
   "source": [
    "np.random.seed(10)\n",
    "\n",
    "model = RNNNumpy(95)\n",
    "o, s = model.forward_progagation(l)\n",
    "\n",
    "print(o.shape)\n",
    "print(o)"
   ]
  },
  {
   "cell_type": "code",
   "execution_count": null,
   "metadata": {},
   "outputs": [],
   "source": []
  }
 ],
 "metadata": {
  "kernelspec": {
   "display_name": "Python 3",
   "language": "python",
   "name": "python3"
  },
  "language_info": {
   "codemirror_mode": {
    "name": "ipython",
    "version": 3
   },
   "file_extension": ".py",
   "mimetype": "text/x-python",
   "name": "python",
   "nbconvert_exporter": "python",
   "pygments_lexer": "ipython3",
   "version": "3.7.3"
  }
 },
 "nbformat": 4,
 "nbformat_minor": 2
}
