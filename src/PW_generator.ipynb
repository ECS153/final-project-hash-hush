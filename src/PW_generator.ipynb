{
 "cells": [
  {
   "cell_type": "code",
   "execution_count": 230,
   "metadata": {},
   "outputs": [],
   "source": [
    "import numpy as np\n",
    "import itertools \n",
    "import operator\n",
    "from datetime import datetime\n",
    "import sys\n",
    "\n",
    "# password possible char\n",
    "# a-z    A-Z     1234567890      @%+\\/'!#$^?:,.(){}[]~-_*   26+26+10+24"
   ]
  },
  {
   "cell_type": "code",
   "execution_count": null,
   "metadata": {},
   "outputs": [],
   "source": [
    "# credit from https://songhuiming.github.io/pages/2017/08/20/build-recurrent-neural-network-from-scratch/\n",
    "def softmax(x):\n",
    "    xt = np.exp(x - np.max(x))\n",
    "    return xt / np.sum(xt)\n",
    "\n",
    "\n",
    "'''\n",
    " - model: \n",
    " - X_train:\n",
    " - y_train:\n",
    " - learning_rate:\n",
    " - nepoch:\n",
    " - evaluate loss_after:\n",
    "'''\n",
    "def train_with_sgd(model, X_train, y_train, learning_rate = 0.005, nepoch = 100, evaluate_loss_after = 5):\n",
    "    # keep track of the losses so that we can plot them later\n",
    "    losses = []\n",
    "    num_examples_seen = 0\n",
    "    for epoch in range(nepoch):\n",
    "        # optionally evaluate the loss\n",
    "        if (epoch % evaluate_loss_after == 0):\n",
    "            loss = model.calculate_loss(X_train, y_train)\n",
    "            losses.append((num_examples_seen, loss))\n",
    "            time = datetime.now().strftime('%Y-%m-%d %H:%M:%S')\n",
    "            print(\"%s: loss after num_examples_seen=%d epoch=%d: %f\" %(time, num_examples_seen, epoch, loss))\n",
    "            # adjust the learning rate if loss increases\n",
    "            if (len(losses) > 1 and losses[-1][1] > losses[-2][1]):\n",
    "                learning_rate = learning_rate * 0.5\n",
    "                print(\"setting learning rate to %f\" %(learning_rate))\n",
    "            sys.stdout.flush()\n",
    "        # for each training example...\n",
    "        for i in range(len(y_train)):\n",
    "            # one sgd step\n",
    "            model.sgd_step(X_train[i], y_train[i], learning_rate)\n",
    "            num_examples_seen += 1\n"
   ]
  },
  {
   "cell_type": "code",
   "execution_count": 246,
   "metadata": {},
   "outputs": [],
   "source": [
    "class RNNNumpy():\n",
    "    def __init__(self, word_dim, hidden_dim = 100, bptt_truncate = 4):\n",
    "        # assign instance variable\n",
    "        self.word_dim = word_dim   # number of possible characters, in this case 86\n",
    "        self.hidden_dim = hidden_dim # number of hidden units \n",
    "        self.bptt_truncate = bptt_truncate\n",
    "        \n",
    "        # random initiate the parameters\n",
    "        self.U = np.random.uniform(-np.sqrt(1./word_dim), np.sqrt(1./word_dim), (hidden_dim, word_dim))\n",
    "        self.V = np.random.uniform(-np.sqrt(1./hidden_dim), np.sqrt(1./hidden_dim), (word_dim, hidden_dim))\n",
    "        self.W = np.random.uniform(-np.sqrt(1./hidden_dim), np.sqrt(1./hidden_dim), (hidden_dim, hidden_dim))\n",
    "    \n",
    "    def forward_progagation(self, x):\n",
    "        # total time steps / length of the password\n",
    "        T = len(x)\n",
    "\n",
    "        #intialize s, with the initial state s set to zero, we thus have T+1 rows, each with size of hidden_dim\n",
    "        s = np.zeros((T+1, self.hidden_dim))\n",
    "        #intialize o, \n",
    "        o = np.zeros((T, self.word_dim))\n",
    "\n",
    "        for t in np.arange(T):\n",
    "            # since x is a one-hot encoder, index U with x[t] is the same thing as mutiply U with tons of 0s\n",
    "            s[t] = np.tanh(self.U[:, x[t]] + self.W.dot(s[t-1]))\n",
    "            o[t] = softmax(self.V.dot(s[t])) \n",
    "        return [o, s]\n",
    "\n",
    "    def predict(self, x):\n",
    "        o, s = self.forward_progagation(x)\n",
    "        return np.argmax(o, axis = 1)\n",
    "    \n",
    "    \n",
    "    # in this case x and y are 2-d arrays\n",
    "    def calculate_total_loss(self, x, y):\n",
    "        L = 0\n",
    "        # for each sentence ...\n",
    "        for i in np.arange(len(y)):\n",
    "            o, s = self.forward_progagation(x[i])\n",
    "            # we only care about our prediction of the \"correct\" words\n",
    "            correct_word_predictions = o[np.arange(len(y[i])), y[i]]\n",
    "            # add to the loss based on how off we were\n",
    "            L += -1 * np.sum(np.log(correct_word_predictions))\n",
    "        return L\n",
    "\n",
    "    # in this case x and y are 2-d arrays\n",
    "    def calculate_loss(self, x, y):\n",
    "        # divide the total loss by the number of training examples\n",
    "        N = np.sum((len(y_i) for y_i in y))\n",
    "        return self.calculate_total_loss(x, y)/N\n",
    "    \n",
    "    \n",
    "    def bptt(self, x, y):\n",
    "        T = len(y)\n",
    "        # perform forward propagation\n",
    "        o, s = self.forward_progagation(x)\n",
    "        # we will accumulate the gradients in these variables\n",
    "        dLdU = np.zeros(self.U.shape)\n",
    "        dLdV = np.zeros(self.V.shape)\n",
    "        dLdW = np.zeros(self.W.shape)\n",
    "        delta_o = o\n",
    "        delta_o[np.arange(len(y)), y] -= 1   # it is y_hat - y\n",
    "        # for each output backwards ...\n",
    "        for t in np.arange(T):\n",
    "            dLdV += np.outer(delta_o[t], s[t].T)    # at time step t, shape is word_dim * hidden_dim\n",
    "            # initial delta calculation\n",
    "            delta_t = self.V.T.dot(delta_o[t]) * (1 - (s[t] ** 2))\n",
    "            # backpropagation through time (for at most self.bptt_truncate steps)\n",
    "            # given time step t, go back from time step t, to t-1, t-2, ...\n",
    "            for bptt_step in np.arange(max(0, t-self.bptt_truncate), t+1)[::-1]:\n",
    "                # print(\"Backprogation step t=%d bptt step=%d\" %(t, bptt_step))\n",
    "                dLdW += np.outer(delta_t, s[bptt_step - 1])\n",
    "                dLdU[:, x[bptt_step]] += delta_t\n",
    "                # update delta for next step\n",
    "                dleta_t = self.W.T.dot(delta_t) * (1 - s[bptt_step-1]**2)\n",
    "        return [dLdU, dLdV, dLdW]\n",
    "    \n",
    "            \n",
    "    def sgd_step(self, x, y, learning_rate):\n",
    "        dLdU, dLdV, dLdW = self.bptt(x, y)\n",
    "        self.U -= learning_rate * dLdU\n",
    "        self.V -= learning_rate * dLdV\n",
    "        self.W -= learning_rate * dLdW\n",
    "\n"
   ]
  },
  {
   "cell_type": "code",
   "execution_count": 247,
   "metadata": {},
   "outputs": [
    {
     "name": "stdout",
     "output_type": "stream",
     "text": [
      "[65, 65, 66, 1, 32, 0, 17, 18, 66, 66, 67, 67]\n",
      "[65, 66, 1, 32, 0, 17, 18, 66, 66, 67, 67, 95]\n"
     ]
    }
   ],
   "source": [
    "# https://theasciicode.com.ar/ascii-control-characters/backspace-ascii-code-8.html\n",
    "# set range for char 32 - 126 in ascii,  95 chars, remove any pw cotains char outside the range\n",
    "# also we want an addtional char END indicates the end of the password, so totally 96 chars\n",
    "# END would only appear in y \n",
    "s =  \"aab!@ 12bbcc\"\n",
    "# y = ab!@ 12bbccEND where END indicate it ends\n",
    "l = []\n",
    "for i in s:\n",
    "    l.append(ord(i)-32)\n",
    "print(l)\n",
    "\n",
    "def generate_y(l):\n",
    "    y = l[1:]\n",
    "    y.append(95)\n",
    "    return y\n",
    "\n",
    "print(generate_y(l))"
   ]
  },
  {
   "cell_type": "code",
   "execution_count": 248,
   "metadata": {},
   "outputs": [
    {
     "name": "stdout",
     "output_type": "stream",
     "text": [
      "(12, 96)\n",
      "[[0.01033776 0.0102209  0.0096735  ... 0.01123267 0.01032486 0.01071546]\n",
      " [0.01022094 0.01038388 0.00980454 ... 0.01099515 0.01026953 0.01064471]\n",
      " [0.01047122 0.01105342 0.01098961 ... 0.01004628 0.01021592 0.01071909]\n",
      " ...\n",
      " [0.01050321 0.01108562 0.01087564 ... 0.01055242 0.0102316  0.01057934]\n",
      " [0.01028706 0.01126629 0.01036227 ... 0.01056727 0.01106294 0.01014812]\n",
      " [0.01043169 0.01113691 0.01024768 ... 0.0104929  0.01119632 0.01027299]]\n",
      "(12,)\n",
      "[29 12 43 78 71 35 95 33 44 44 57 57]\n"
     ]
    }
   ],
   "source": [
    "np.random.seed(10)\n",
    "char_size = 96 \n",
    "model = RNNNumpy(char_size)\n",
    "o, s = model.forward_progagation(l)\n",
    "\n",
    "print(o.shape)\n",
    "print(o)\n",
    "\n",
    "predictions = model.predict(l)\n",
    "print(predictions.shape)\n",
    "print(predictions) \n"
   ]
  },
  {
   "cell_type": "code",
   "execution_count": 254,
   "metadata": {},
   "outputs": [
    {
     "name": "stdout",
     "output_type": "stream",
     "text": [
      "[82, 79, 67, 75, 89, 79, 85]\n",
      "[79, 67, 75, 89, 79, 85, 95]\n",
      "[17, 18, 19, 20, 21, 22, 23, 24]\n",
      "[18, 19, 20, 21, 22, 23, 24, 95]\n",
      "[65, 66, 67, 17, 18, 19]\n",
      "[66, 67, 17, 18, 19, 95]\n",
      "[78, 73, 67, 79, 76, 69]\n",
      "[73, 67, 79, 76, 69, 95]\n",
      "[68, 65, 78, 73, 69, 76]\n",
      "[65, 78, 73, 69, 76, 95]\n",
      "[66, 65, 66, 89, 71, 73, 82, 76]\n",
      "[65, 66, 89, 71, 73, 82, 76, 95]\n",
      "[77, 79, 78, 75, 69, 89]\n",
      "[79, 78, 75, 69, 89, 95]\n",
      "[74, 79, 78, 78, 65, 73, 83, 69, 17]\n",
      "[79, 78, 78, 65, 73, 83, 69, 17, 95]\n",
      "[68, 74, 79, 78, 78, 65, 72]\n",
      "[74, 79, 78, 78, 65, 72, 95]\n",
      "[16, 24, 23, 19, 21, 25]\n",
      "[24, 23, 19, 21, 25, 95]\n",
      "[16, 24, 23, 19, 21, 24, 25, 24, 24, 20]\n",
      "[24, 23, 19, 21, 24, 25, 24, 24, 20, 95]\n",
      "[16, 24, 23, 19, 21, 24, 25, 22, 20, 21]\n",
      "[24, 23, 19, 21, 24, 25, 22, 20, 21, 95]\n",
      "[16, 19, 17, 18, 65, 90, 83, 68]\n",
      "[19, 17, 18, 65, 90, 83, 68, 95]\n",
      "[16, 19, 17, 18, 65, 80]\n",
      "[19, 17, 18, 65, 80, 95]\n",
      "[16, 19, 17, 18, 65, 76, 76, 73, 83, 84, 69, 82]\n",
      "[19, 17, 18, 65, 76, 76, 73, 83, 84, 69, 82, 95]\n",
      "[16, 19, 17, 18, 24, 25, 13, 80, 73, 77, 80, 78, 79, 17]\n",
      "[19, 17, 18, 24, 25, 13, 80, 73, 77, 80, 78, 79, 17, 95]\n",
      "[16, 19, 17, 18, 24, 25, 10, 76, 73, 67]\n",
      "[19, 17, 18, 24, 25, 10, 76, 73, 67, 95]\n",
      "[16, 19, 17, 18, 24, 24, 85, 83, 77, 67]\n",
      "[19, 17, 18, 24, 24, 85, 83, 77, 67, 95]\n",
      "[16, 19, 17, 18, 24, 24, 83, 69, 84]\n",
      "[19, 17, 18, 24, 24, 83, 69, 84, 95]\n",
      "[1, 76, 53, 86, 69, 87, 69]\n",
      "[76, 53, 86, 69, 87, 69, 95]\n",
      "[1, 76, 47, 86, 37, 77, 57, 83, 37, 76, 38]\n",
      "[76, 47, 86, 37, 77, 57, 83, 37, 76, 38, 95]\n",
      "[1, 76, 18, 21, 76, 25, 16, 1]\n",
      "[76, 18, 21, 76, 25, 16, 1, 95]\n",
      "[1, 76, 16, 86, 69, 92, 10, 32, 87, 16, 82]\n",
      "[76, 16, 86, 69, 92, 10, 32, 87, 16, 82, 95]\n",
      "[0, 0, 0, 0, 0, 0, 0, 17, 18, 19, 20, 21, 22, 23]\n",
      "[0, 0, 0, 0, 0, 0, 17, 18, 19, 20, 21, 22, 23, 95]\n",
      "[0, 0, 0, 0, 0, 0, 0, 17]\n",
      "[0, 0, 0, 0, 0, 0, 17, 95]\n",
      "[-6, 88, 35, 86, 34, 78, 45, 12]\n",
      "[88, 35, 86, 34, 78, 45, 12, 95]\n",
      "[0, 65, 65, 65, 65]\n",
      "[65, 65, 65, 65, 95]\n",
      "[0, 65, 25, 21, 17, 16, 23, 20, 23]\n",
      "[65, 25, 21, 17, 16, 23, 20, 23, 95]\n",
      "[0, 65, 17, 20, 18, 20, 21, 16]\n",
      "[65, 17, 20, 18, 20, 21, 16, 95]\n",
      "[0, 65, 0, 68, 0, 65]\n",
      "[65, 0, 68, 0, 65, 95]\n",
      "[45, 41, 76, 75, 89, 87, 65, 89, 17, 17]\n",
      "[41, 76, 75, 89, 87, 65, 89, 17, 17, 95]\n",
      "[45, 73, 76, 73, 84, 65, 82, 89, 1, 1]\n",
      "[73, 76, 73, 84, 65, 82, 89, 1, 1, 95]\n",
      "[45, 41, 76, 73, 24, 17]\n",
      "[41, 76, 73, 24, 17, 95]\n"
     ]
    }
   ],
   "source": [
    "f = open(\"test.txt\", \"r\")\n",
    "line = f.readline()\n",
    "x = []\n",
    "y = []\n",
    "while line != \"\":\n",
    "    l = [ord(i)-32 for i in line][:-1] # convert to int\n",
    "    x.append(l) # add to X\n",
    "    print(l)\n",
    "    l.append(95)\n",
    "    l = l[1:]\n",
    "    y.append(l) # modify and add to y\n",
    "    print(l)\n",
    "    line = f.readline()\n",
    "\n",
    "   "
   ]
  },
  {
   "cell_type": "code",
   "execution_count": 250,
   "metadata": {},
   "outputs": [
    {
     "name": "stdout",
     "output_type": "stream",
     "text": [
      "Expected Loss for random prediction: 4.564348\n",
      "Actual loss: 4.566333\n"
     ]
    },
    {
     "name": "stderr",
     "output_type": "stream",
     "text": [
      "/Users/kevin/anaconda3/lib/python3.7/site-packages/ipykernel_launcher.py:88: DeprecationWarning: Calling np.sum(generator) is deprecated, and in the future will give a different result. Use np.sum(np.fromiter(generator)) or the python sum builtin instead.\n"
     ]
    }
   ],
   "source": [
    "print(\"Expected Loss for random prediction: %f\" % np.log(char_size))\n",
    "print(\"Actual loss: %f\" % model.calculate_loss(x, y))"
   ]
  },
  {
   "cell_type": "code",
   "execution_count": 251,
   "metadata": {},
   "outputs": [
    {
     "name": "stdout",
     "output_type": "stream",
     "text": [
      "performing gradient check for parameter U with size 1000. \n",
      "Gradient check error: parameter = U ix = (0, 3)\n",
      "+h Loss: 18.307080\n",
      "-h Loss: 18.307296\n",
      "Estimated gradient: -0.108091\n",
      "Backpropagation gradient: -0.108091\n",
      "Relative error: 0.000000\n"
     ]
    }
   ],
   "source": [
    "grad_check_vocab_size = 100\n",
    "np.random.seed(10)\n",
    "model = RNNNumpy(grad_check_vocab_size, 10, bptt_truncate = 1000)\n",
    "model.gradient_check([0,1,2,3], [1,2,3,4])"
   ]
  },
  {
   "cell_type": "code",
   "execution_count": 253,
   "metadata": {},
   "outputs": [
    {
     "name": "stdout",
     "output_type": "stream",
     "text": [
      "2020-05-16 17:54:15: loss after num_examples_seen=0 epoch=0: 4.566333\n",
      "2020-05-16 17:54:15: loss after num_examples_seen=33 epoch=1: 4.547854\n"
     ]
    },
    {
     "name": "stderr",
     "output_type": "stream",
     "text": [
      "/Users/kevin/anaconda3/lib/python3.7/site-packages/ipykernel_launcher.py:88: DeprecationWarning: Calling np.sum(generator) is deprecated, and in the future will give a different result. Use np.sum(np.fromiter(generator)) or the python sum builtin instead.\n"
     ]
    },
    {
     "name": "stdout",
     "output_type": "stream",
     "text": [
      "2020-05-16 17:54:15: loss after num_examples_seen=66 epoch=2: 4.528269\n",
      "2020-05-16 17:54:15: loss after num_examples_seen=99 epoch=3: 4.505158\n",
      "2020-05-16 17:54:15: loss after num_examples_seen=132 epoch=4: 4.473565\n",
      "2020-05-16 17:54:15: loss after num_examples_seen=165 epoch=5: 4.416195\n",
      "2020-05-16 17:54:15: loss after num_examples_seen=198 epoch=6: 4.187101\n",
      "2020-05-16 17:54:15: loss after num_examples_seen=231 epoch=7: 3.919399\n",
      "2020-05-16 17:54:15: loss after num_examples_seen=264 epoch=8: 3.757771\n",
      "2020-05-16 17:54:15: loss after num_examples_seen=297 epoch=9: 3.631927\n",
      "Actual loss: 3.537425\n"
     ]
    }
   ],
   "source": [
    "np.random.seed(10)\n",
    "model = RNNNumpy(96)\n",
    "losses = train_with_sgd(model, x, y, nepoch = 10, evaluate_loss_after = 1)\n",
    "\n",
    "print(\"Actual loss: %f\" % model.calculate_loss(x, y))"
   ]
  },
  {
   "cell_type": "code",
   "execution_count": null,
   "metadata": {},
   "outputs": [],
   "source": [
    "np.random.seed(10)\n",
    "char_size = 96 \n",
    "model = RNNNumpy(char_size)\n",
    "\n",
    "# 1. Insert previous U, V, W into model \n",
    "\n",
    "# 2. Open rockyou.txt, get string and start training\n",
    "losses = train_with_sgd(model, x, y, nepoch = 10, evaluate_loss_after = 1)\n",
    "# training end \n",
    "\n",
    "# 3. Generate random passwords, then check for "
   ]
  },
  {
   "cell_type": "code",
   "execution_count": null,
   "metadata": {},
   "outputs": [],
   "source": [
    "\n",
    "# possibily not going to use this  \n",
    "    def gradient_check(self, x, y, h = 0.001, error_threshold = 0.01):\n",
    "        # calculate the gradient using backpropagation\n",
    "        bptt_gradients = self.bptt(x, y)\n",
    "        # list of all params we want to check\n",
    "        model_parameters = [\"U\", \"V\", \"W\"]\n",
    "        # gradient check for each parameter\n",
    "        for pidx, pname in enumerate(model_parameters):\n",
    "            # get the actual parameter value from model, e.g. model.W\n",
    "            parameter = operator.attrgetter(pname)(self)\n",
    "            print(\"performing gradient check for parameter %s with size %d. \" %(pname, np.prod(parameter.shape)))\n",
    "            # iterate over each element of the parameter matrix, e.g. (0,0), (0,1)...\n",
    "            it = np.nditer(parameter, flags = ['multi_index'], op_flags=['readwrite'])\n",
    "            while not it.finished:\n",
    "                ix = it.multi_index\n",
    "                # save the original value so we can reset it later\n",
    "                original_value = parameter[ix]\n",
    "                # estimate the gradient using (f(x+h) - f(x-h))/2h\n",
    "                parameter[ix] = original_value + h\n",
    "                gradplus = self.calculate_total_loss([x], [y])\n",
    "                parameter[ix] = original_value - h\n",
    "                gradminus = self.calculate_total_loss([x], [y])\n",
    "                estimated_gradient = (gradplus - gradminus)/(2*h)\n",
    "                # reset parameter to the original value\n",
    "                parameter[ix] = original_value\n",
    "                # the gradient for this parameter calculated using backpropagation\n",
    "                backprop_gradient = bptt_gradients[pidx][ix]\n",
    "                # calculate the relative error (|x - y|)/(|x|+|y|)\n",
    "                relative_error = np.abs(backprop_gradient - estimated_gradient)/(np.abs(backprop_gradient) + np.abs(estimated_gradient))\n",
    "                # if the error is too large fail the gradient check\n",
    "                if relative_error < error_threshold:\n",
    "                    print(\"Gradient check error: parameter = %s ix = %s\" %(pname, ix))\n",
    "                    print(\"+h Loss: %f\" % gradplus)\n",
    "                    print(\"-h Loss: %f\" % gradminus)\n",
    "                    print(\"Estimated gradient: %f\" % estimated_gradient)\n",
    "                    print(\"Backpropagation gradient: %f\" % backprop_gradient)\n",
    "                    print(\"Relative error: %f\" % relative_error)\n",
    "                    return\n",
    "                it.iternext()\n",
    "            print(\"Gradient check for parameter %s passed. \" %(pname))"
   ]
  }
 ],
 "metadata": {
  "kernelspec": {
   "display_name": "Python 3",
   "language": "python",
   "name": "python3"
  },
  "language_info": {
   "codemirror_mode": {
    "name": "ipython",
    "version": 3
   },
   "file_extension": ".py",
   "mimetype": "text/x-python",
   "name": "python",
   "nbconvert_exporter": "python",
   "pygments_lexer": "ipython3",
   "version": "3.7.3"
  }
 },
 "nbformat": 4,
 "nbformat_minor": 2
}
